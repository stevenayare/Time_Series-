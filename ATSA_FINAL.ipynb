{
 "cells": [
  {
   "cell_type": "code",
   "execution_count": 1,
   "metadata": {
    "id": "G_JtTc5LZloM"
   },
   "outputs": [],
   "source": [
    "from statsmodels.graphics.tsaplots import plot_pacf\n",
    "from statsmodels.graphics.tsaplots import plot_acf\n",
    "from statsmodels.tsa.arima_process import ArmaProcess\n",
    "from statsmodels.regression.linear_model import yule_walker\n",
    "from statsmodels.tsa.statespace.sarimax import SARIMAX\n",
    "from statsmodels.tsa.arima.model import ARIMA\n",
    "from statsmodels.tsa.stattools import adfuller\n",
    "from sklearn.metrics import mean_squared_error\n",
    "import matplotlib.pyplot as plt\n",
    "from tqdm import tqdm_notebook\n",
    "import numpy as np\n",
    "import pandas as pd\n",
    "from statsmodels.tsa.ar_model import AutoReg\n",
    "from itertools import product\n",
    "from statsmodels.tsa.arima_model import ARMA\n",
    "import warnings\n",
    "warnings.filterwarnings('ignore')\n",
    "from statsmodels.tsa.statespace.varmax import VARMAX\n",
    "from statsmodels.tsa.vector_ar.var_model import VAR\n",
    "\n",
    "%matplotlib inline"
   ]
  },
  {
   "cell_type": "code",
   "execution_count": 4,
   "metadata": {
    "colab": {
     "base_uri": "https://localhost:8080/",
     "height": 206
    },
    "id": "q6te5b0vZ4nB",
    "outputId": "32f99f99-b7c8-4856-cbc1-720e042cd88c"
   },
   "outputs": [
    {
     "data": {
      "text/html": [
       "<div>\n",
       "<style scoped>\n",
       "    .dataframe tbody tr th:only-of-type {\n",
       "        vertical-align: middle;\n",
       "    }\n",
       "\n",
       "    .dataframe tbody tr th {\n",
       "        vertical-align: top;\n",
       "    }\n",
       "\n",
       "    .dataframe thead th {\n",
       "        text-align: right;\n",
       "    }\n",
       "</style>\n",
       "<table border=\"1\" class=\"dataframe\">\n",
       "  <thead>\n",
       "    <tr style=\"text-align: right;\">\n",
       "      <th></th>\n",
       "      <th>Sno</th>\n",
       "      <th>Date</th>\n",
       "      <th>Time</th>\n",
       "      <th>State/UnionTerritory</th>\n",
       "      <th>ConfirmedIndianNational</th>\n",
       "      <th>ConfirmedForeignNational</th>\n",
       "      <th>Cured</th>\n",
       "      <th>Deaths</th>\n",
       "      <th>Confirmed</th>\n",
       "    </tr>\n",
       "  </thead>\n",
       "  <tbody>\n",
       "    <tr>\n",
       "      <th>0</th>\n",
       "      <td>1</td>\n",
       "      <td>2020-01-30</td>\n",
       "      <td>6:00 PM</td>\n",
       "      <td>Kerala</td>\n",
       "      <td>1</td>\n",
       "      <td>0</td>\n",
       "      <td>0</td>\n",
       "      <td>0</td>\n",
       "      <td>1</td>\n",
       "    </tr>\n",
       "    <tr>\n",
       "      <th>1</th>\n",
       "      <td>2</td>\n",
       "      <td>2020-01-31</td>\n",
       "      <td>6:00 PM</td>\n",
       "      <td>Kerala</td>\n",
       "      <td>1</td>\n",
       "      <td>0</td>\n",
       "      <td>0</td>\n",
       "      <td>0</td>\n",
       "      <td>1</td>\n",
       "    </tr>\n",
       "    <tr>\n",
       "      <th>2</th>\n",
       "      <td>3</td>\n",
       "      <td>2020-02-01</td>\n",
       "      <td>6:00 PM</td>\n",
       "      <td>Kerala</td>\n",
       "      <td>2</td>\n",
       "      <td>0</td>\n",
       "      <td>0</td>\n",
       "      <td>0</td>\n",
       "      <td>2</td>\n",
       "    </tr>\n",
       "    <tr>\n",
       "      <th>3</th>\n",
       "      <td>4</td>\n",
       "      <td>2020-02-02</td>\n",
       "      <td>6:00 PM</td>\n",
       "      <td>Kerala</td>\n",
       "      <td>3</td>\n",
       "      <td>0</td>\n",
       "      <td>0</td>\n",
       "      <td>0</td>\n",
       "      <td>3</td>\n",
       "    </tr>\n",
       "    <tr>\n",
       "      <th>4</th>\n",
       "      <td>5</td>\n",
       "      <td>2020-02-03</td>\n",
       "      <td>6:00 PM</td>\n",
       "      <td>Kerala</td>\n",
       "      <td>3</td>\n",
       "      <td>0</td>\n",
       "      <td>0</td>\n",
       "      <td>0</td>\n",
       "      <td>3</td>\n",
       "    </tr>\n",
       "  </tbody>\n",
       "</table>\n",
       "</div>"
      ],
      "text/plain": [
       "   Sno        Date     Time State/UnionTerritory ConfirmedIndianNational  \\\n",
       "0    1  2020-01-30  6:00 PM               Kerala                       1   \n",
       "1    2  2020-01-31  6:00 PM               Kerala                       1   \n",
       "2    3  2020-02-01  6:00 PM               Kerala                       2   \n",
       "3    4  2020-02-02  6:00 PM               Kerala                       3   \n",
       "4    5  2020-02-03  6:00 PM               Kerala                       3   \n",
       "\n",
       "  ConfirmedForeignNational  Cured  Deaths  Confirmed  \n",
       "0                        0      0       0          1  \n",
       "1                        0      0       0          1  \n",
       "2                        0      0       0          2  \n",
       "3                        0      0       0          3  \n",
       "4                        0      0       0          3  "
      ]
     },
     "execution_count": 4,
     "metadata": {},
     "output_type": "execute_result"
    }
   ],
   "source": [
    "# Read the data\n",
    "df = pd.read_csv(\"covid_19_india.csv\")\n",
    "df2 = df\n",
    "df.head()"
   ]
  },
  {
   "cell_type": "code",
   "execution_count": 5,
   "metadata": {
    "colab": {
     "base_uri": "https://localhost:8080/"
    },
    "id": "h7lv7K6AbRcd",
    "outputId": "289e0bdd-c679-40f2-dd69-6411e985b931"
   },
   "outputs": [
    {
     "data": {
      "text/plain": [
       "Index(['Sno', 'Date', 'Time', 'State/UnionTerritory',\n",
       "       'ConfirmedIndianNational', 'ConfirmedForeignNational', 'Cured',\n",
       "       'Deaths', 'Confirmed'],\n",
       "      dtype='object')"
      ]
     },
     "execution_count": 5,
     "metadata": {},
     "output_type": "execute_result"
    }
   ],
   "source": [
    "df.columns"
   ]
  },
  {
   "cell_type": "code",
   "execution_count": 6,
   "metadata": {
    "colab": {
     "base_uri": "https://localhost:8080/"
    },
    "id": "WamJYdxZcFWs",
    "outputId": "140f9159-cba1-49b1-bbb6-bc8e9590ddac"
   },
   "outputs": [
    {
     "name": "stdout",
     "output_type": "stream",
     "text": [
      "<class 'pandas.core.frame.DataFrame'>\n",
      "RangeIndex: 18110 entries, 0 to 18109\n",
      "Data columns (total 9 columns):\n",
      " #   Column                    Non-Null Count  Dtype \n",
      "---  ------                    --------------  ----- \n",
      " 0   Sno                       18110 non-null  int64 \n",
      " 1   Date                      18110 non-null  object\n",
      " 2   Time                      18110 non-null  object\n",
      " 3   State/UnionTerritory      18110 non-null  object\n",
      " 4   ConfirmedIndianNational   18110 non-null  object\n",
      " 5   ConfirmedForeignNational  18110 non-null  object\n",
      " 6   Cured                     18110 non-null  int64 \n",
      " 7   Deaths                    18110 non-null  int64 \n",
      " 8   Confirmed                 18110 non-null  int64 \n",
      "dtypes: int64(4), object(5)\n",
      "memory usage: 1.2+ MB\n"
     ]
    }
   ],
   "source": [
    "df.info()"
   ]
  },
  {
   "cell_type": "code",
   "execution_count": 7,
   "metadata": {
    "colab": {
     "base_uri": "https://localhost:8080/"
    },
    "id": "JVeFAtZtcIPf",
    "outputId": "6928b546-3219-45d5-ba52-4bbd8d1cc794"
   },
   "outputs": [
    {
     "data": {
      "text/plain": [
       "Sno                         0\n",
       "Date                        0\n",
       "Time                        0\n",
       "State/UnionTerritory        0\n",
       "ConfirmedIndianNational     0\n",
       "ConfirmedForeignNational    0\n",
       "Cured                       0\n",
       "Deaths                      0\n",
       "Confirmed                   0\n",
       "dtype: int64"
      ]
     },
     "execution_count": 7,
     "metadata": {},
     "output_type": "execute_result"
    }
   ],
   "source": [
    "# Checking for null values\n",
    "df.isna().sum()"
   ]
  },
  {
   "cell_type": "code",
   "execution_count": 8,
   "metadata": {
    "id": "1z5ePWZcCwVO"
   },
   "outputs": [],
   "source": [
    "df = df.groupby('Date', as_index=False)['Deaths'].sum()"
   ]
  },
  {
   "cell_type": "code",
   "execution_count": 9,
   "metadata": {
    "colab": {
     "base_uri": "https://localhost:8080/",
     "height": 555
    },
    "id": "TUSzn9xPj3tG",
    "outputId": "2104c7b3-4a24-4134-a29b-f3e49ca2b373"
   },
   "outputs": [
    {
     "data": {
      "image/png": "[encoded data removed]",
      "text/plain": [
       "<Figure size 640x480 with 1 Axes>"
      ]
     },
     "metadata": {},
     "output_type": "display_data"
    },
    {
     "data": {
      "text/plain": [
       "<Figure size 1200x600 with 0 Axes>"
      ]
     },
     "metadata": {},
     "output_type": "display_data"
    }
   ],
   "source": [
    "# Plotting the graph\n",
    "plt.plot(df['Date'], df['Deaths'])\n",
    "plt.title('Covid-19 Deaths')\n",
    "plt.ylabel('Deaths')\n",
    "plt.xlabel('Date')\n",
    "plt.xticks(rotation=90)\n",
    "plt.figure(figsize=(12, 6))\n",
    "plt.show()"
   ]
  },
  {
   "cell_type": "code",
   "execution_count": 10,
   "metadata": {
    "colab": {
     "base_uri": "https://localhost:8080/"
    },
    "id": "8VOY3p_EHmQ5",
    "outputId": "9b8da37c-7219-466f-d035-dc642fa5c083"
   },
   "outputs": [
    {
     "name": "stdout",
     "output_type": "stream",
     "text": [
      "ADF Statistic: 0.16789800070478134\n",
      "p-value: 0.9704025118368168\n"
     ]
    }
   ],
   "source": [
    "# ADF Test for Stationarity\n",
    "ADF = adfuller(df['Deaths'])\n",
    "\n",
    "print(f'ADF Statistic: {ADF[0]}')\n",
    "print(f'p-value: {ADF[1]}')"
   ]
  },
  {
   "cell_type": "code",
   "execution_count": 11,
   "metadata": {
    "id": "aIGeTXfJbdd8"
   },
   "outputs": [],
   "source": [
    "df['death_tr_1'] = df['Deaths'].diff()"
   ]
  },
  {
   "cell_type": "code",
   "execution_count": 12,
   "metadata": {
    "colab": {
     "base_uri": "https://localhost:8080/"
    },
    "id": "y7aABFv-chqg",
    "outputId": "588bffcf-43ad-4ddd-c0ed-f1895a572562"
   },
   "outputs": [
    {
     "name": "stdout",
     "output_type": "stream",
     "text": [
      "ADF Statistic: -2.4515918577719304\n",
      "p-value: 0.12770103279304423\n"
     ]
    }
   ],
   "source": [
    "ADF = adfuller(df['death_tr_1'][1:])\n",
    "\n",
    "print(f'ADF Statistic: {ADF[0]}')\n",
    "print(f'p-value: {ADF[1]}')"
   ]
  },
  {
   "cell_type": "code",
   "execution_count": 13,
   "metadata": {
    "id": "QpeMy7hDeJR5"
   },
   "outputs": [],
   "source": [
    "df['death_tr_2'] = df['death_tr_1'].diff()"
   ]
  },
  {
   "cell_type": "code",
   "execution_count": 14,
   "metadata": {
    "colab": {
     "base_uri": "https://localhost:8080/",
     "height": 331
    },
    "id": "4fMcO0tNeVl-",
    "outputId": "ccd2cab1-bf4e-4a91-86a5-1597bd1064dd"
   },
   "outputs": [
    {
     "data": {
      "text/html": [
       "<div>\n",
       "<style scoped>\n",
       "    .dataframe tbody tr th:only-of-type {\n",
       "        vertical-align: middle;\n",
       "    }\n",
       "\n",
       "    .dataframe tbody tr th {\n",
       "        vertical-align: top;\n",
       "    }\n",
       "\n",
       "    .dataframe thead th {\n",
       "        text-align: right;\n",
       "    }\n",
       "</style>\n",
       "<table border=\"1\" class=\"dataframe\">\n",
       "  <thead>\n",
       "    <tr style=\"text-align: right;\">\n",
       "      <th></th>\n",
       "      <th>Date</th>\n",
       "      <th>Deaths</th>\n",
       "      <th>death_tr_1</th>\n",
       "      <th>death_tr_2</th>\n",
       "    </tr>\n",
       "  </thead>\n",
       "  <tbody>\n",
       "    <tr>\n",
       "      <th>551</th>\n",
       "      <td>2021-08-03</td>\n",
       "      <td>425195</td>\n",
       "      <td>422.0</td>\n",
       "      <td>0.0</td>\n",
       "    </tr>\n",
       "    <tr>\n",
       "      <th>552</th>\n",
       "      <td>2021-08-04</td>\n",
       "      <td>425757</td>\n",
       "      <td>562.0</td>\n",
       "      <td>140.0</td>\n",
       "    </tr>\n",
       "    <tr>\n",
       "      <th>553</th>\n",
       "      <td>2021-08-05</td>\n",
       "      <td>426290</td>\n",
       "      <td>533.0</td>\n",
       "      <td>-29.0</td>\n",
       "    </tr>\n",
       "    <tr>\n",
       "      <th>554</th>\n",
       "      <td>2021-08-06</td>\n",
       "      <td>426754</td>\n",
       "      <td>464.0</td>\n",
       "      <td>-69.0</td>\n",
       "    </tr>\n",
       "    <tr>\n",
       "      <th>555</th>\n",
       "      <td>2021-08-07</td>\n",
       "      <td>427371</td>\n",
       "      <td>617.0</td>\n",
       "      <td>153.0</td>\n",
       "    </tr>\n",
       "    <tr>\n",
       "      <th>556</th>\n",
       "      <td>2021-08-08</td>\n",
       "      <td>427862</td>\n",
       "      <td>491.0</td>\n",
       "      <td>-126.0</td>\n",
       "    </tr>\n",
       "    <tr>\n",
       "      <th>557</th>\n",
       "      <td>2021-08-09</td>\n",
       "      <td>428309</td>\n",
       "      <td>447.0</td>\n",
       "      <td>-44.0</td>\n",
       "    </tr>\n",
       "    <tr>\n",
       "      <th>558</th>\n",
       "      <td>2021-08-10</td>\n",
       "      <td>428682</td>\n",
       "      <td>373.0</td>\n",
       "      <td>-74.0</td>\n",
       "    </tr>\n",
       "    <tr>\n",
       "      <th>559</th>\n",
       "      <td>2021-08-11</td>\n",
       "      <td>429179</td>\n",
       "      <td>497.0</td>\n",
       "      <td>124.0</td>\n",
       "    </tr>\n",
       "  </tbody>\n",
       "</table>\n",
       "</div>"
      ],
      "text/plain": [
       "           Date  Deaths  death_tr_1  death_tr_2\n",
       "551  2021-08-03  425195       422.0         0.0\n",
       "552  2021-08-04  425757       562.0       140.0\n",
       "553  2021-08-05  426290       533.0       -29.0\n",
       "554  2021-08-06  426754       464.0       -69.0\n",
       "555  2021-08-07  427371       617.0       153.0\n",
       "556  2021-08-08  427862       491.0      -126.0\n",
       "557  2021-08-09  428309       447.0       -44.0\n",
       "558  2021-08-10  428682       373.0       -74.0\n",
       "559  2021-08-11  429179       497.0       124.0"
      ]
     },
     "execution_count": 14,
     "metadata": {},
     "output_type": "execute_result"
    }
   ],
   "source": [
    "df.tail(9)"
   ]
  },
  {
   "cell_type": "code",
   "execution_count": 15,
   "metadata": {
    "colab": {
     "base_uri": "https://localhost:8080/"
    },
    "id": "qngAoQzheQkP",
    "outputId": "2e7db1e9-9d4d-4fc6-d206-a303a56ac2d9"
   },
   "outputs": [
    {
     "name": "stdout",
     "output_type": "stream",
     "text": [
      "ADF Statistic: -19.80603287273378\n",
      "p-value: 0.0\n"
     ]
    }
   ],
   "source": [
    "ADF = adfuller(df['death_tr_2'][2:])\n",
    "\n",
    "print(f'ADF Statistic: {ADF[0]}')\n",
    "print(f'p-value: {ADF[1]}')"
   ]
  },
  {
   "cell_type": "code",
   "execution_count": 16,
   "metadata": {
    "colab": {
     "base_uri": "https://localhost:8080/",
     "height": 469
    },
    "id": "7F8E2hNxeyj3",
    "outputId": "2e40479d-82ac-43fc-e8d4-f6912f0f89f4"
   },
   "outputs": [
    {
     "data": {
      "image/png": "[encoded data removed]",
      "text/plain": [
       "<Figure size 640x480 with 1 Axes>"
      ]
     },
     "metadata": {},
     "output_type": "display_data"
    },
    {
     "data": {
      "text/plain": [
       "<Figure size 1200x600 with 0 Axes>"
      ]
     },
     "metadata": {},
     "output_type": "display_data"
    }
   ],
   "source": [
    "# Graph plot after differencing\n",
    "plt.plot(df['death_tr_2'])\n",
    "plt.title(\" Death count after differencing\")\n",
    "plt.figure(figsize=(12, 6))\n",
    "plt.show()"
   ]
  },
  {
   "cell_type": "code",
   "execution_count": 17,
   "metadata": {
    "colab": {
     "base_uri": "https://localhost:8080/",
     "height": 887
    },
    "id": "TuhMkd9Hk1pn",
    "outputId": "2c335d64-e635-481c-cb5e-bc9a3b27d360"
   },
   "outputs": [
    {
     "data": {
      "image/png": "[encoded data removed]",
      "text/plain": [
       "<Figure size 640x480 with 1 Axes>"
      ]
     },
     "metadata": {},
     "output_type": "display_data"
    },
    {
     "data": {
      "image/png": "[encoded data removed]",
      "text/plain": [
       "<Figure size 640x480 with 1 Axes>"
      ]
     },
     "metadata": {},
     "output_type": "display_data"
    }
   ],
   "source": [
    "# Plot the ACF and PACF Graph\n",
    "plot_pacf(df['death_tr_2'][2:]);\n",
    "plot_acf(df['death_tr_2'][2:]);"
   ]
  },
  {
   "cell_type": "code",
   "execution_count": 18,
   "metadata": {
    "id": "s0jjsMUFlPr2"
   },
   "outputs": [],
   "source": [
    "# ARIMA Model\n",
    "def optimize_ARIMA(endog, order_list):\n",
    "    \"\"\"\n",
    "        Return dataframe with parameters and corresponding AIC\n",
    "\n",
    "        order_list - list with (p, d, q) tuples\n",
    "        endog - the observed variable\n",
    "    \"\"\"\n",
    "\n",
    "    results = []\n",
    "\n",
    "    for order in tqdm_notebook(order_list):\n",
    "        try:\n",
    "            model = ARIMA(endog, order=order).fit()\n",
    "        except:\n",
    "            continue\n",
    "\n",
    "        aic = model.aic\n",
    "        results.append([order, model.aic])\n",
    "\n",
    "    result_df = pd.DataFrame(results)\n",
    "    result_df.columns = ['(p, d, q)', 'AIC']\n",
    "    #Sort in ascending order, lower AIC is better\n",
    "    result_df = result_df.sort_values(by='AIC', ascending=True).reset_index(drop=True)\n",
    "\n",
    "    return result_df"
   ]
  },
  {
   "cell_type": "code",
   "execution_count": 19,
   "metadata": {
    "colab": {
     "base_uri": "https://localhost:8080/"
    },
    "id": "zOo31l7Oln2u",
    "outputId": "409727de-614b-4541-bb08-3ce5daa26472"
   },
   "outputs": [
    {
     "data": {
      "text/plain": [
       "[(0, 2, 0),\n",
       " (0, 2, 1),\n",
       " (0, 2, 2),\n",
       " (0, 2, 3),\n",
       " (0, 2, 4),\n",
       " (0, 2, 5),\n",
       " (0, 2, 6),\n",
       " (0, 2, 7),\n",
       " (1, 2, 0),\n",
       " (1, 2, 1)]"
      ]
     },
     "execution_count": 19,
     "metadata": {},
     "output_type": "execute_result"
    }
   ],
   "source": [
    "ps = range(0, 8, 1)\n",
    "d = 2\n",
    "qs = range(0, 8, 1)\n",
    "\n",
    "# Create a list with all possible combination of parameters\n",
    "parameters = product(ps, qs)\n",
    "parameters_list = list(parameters)\n",
    "\n",
    "order_list = []\n",
    "\n",
    "for each in parameters_list:\n",
    "    each = list(each)\n",
    "    each.insert(1,2)\n",
    "    each = tuple(each)\n",
    "    order_list.append(each)\n",
    "\n",
    "order_list[:10]"
   ]
  },
  {
   "cell_type": "code",
   "execution_count": 20,
   "metadata": {
    "colab": {
     "base_uri": "https://localhost:8080/",
     "height": 455,
     "referenced_widgets": [
      "1c4e2d969ae9498aa00500ba2c00dfdd",
      "ac30a4d6ee004f64b05daf84c57df788",
      "55a9ce17be7a416abcd83ba34f10e2ba",
      "2ab30533a466470d99a9e217b6945cb9",
      "7be824ff3d7d4fe7a59cc30f888cef72",
      "bee1b0187af54fd8a642f20e9ab44f76",
      "4cfd7e6120c0494b9c37d36b6a138172",
      "b7a57033aae2426382bb8ca424727100",
      "8167f468c6674032afc4385c286d2189",
      "4e7953e86dc8466da29996016a50c026",
      "c1fc06f277e24fc4a963e902b9a87c6a"
     ]
    },
    "id": "IUSwM41IiEIk",
    "outputId": "9e1c9b96-3450-41ba-910a-9e61af59cdfd"
   },
   "outputs": [
    {
     "data": {
      "application/vnd.jupyter.widget-view+json": {
       "model_id": "41d5f763b6fb47ed8a8e0c975a61a527",
       "version_major": 2,
       "version_minor": 0
      },
      "text/plain": [
       "  0%|          | 0/64 [00:00<?, ?it/s]"
      ]
     },
     "metadata": {},
     "output_type": "display_data"
    },
    {
     "data": {
      "text/html": [
       "<div>\n",
       "<style scoped>\n",
       "    .dataframe tbody tr th:only-of-type {\n",
       "        vertical-align: middle;\n",
       "    }\n",
       "\n",
       "    .dataframe tbody tr th {\n",
       "        vertical-align: top;\n",
       "    }\n",
       "\n",
       "    .dataframe thead th {\n",
       "        text-align: right;\n",
       "    }\n",
       "</style>\n",
       "<table border=\"1\" class=\"dataframe\">\n",
       "  <thead>\n",
       "    <tr style=\"text-align: right;\">\n",
       "      <th></th>\n",
       "      <th>(p, d, q)</th>\n",
       "      <th>AIC</th>\n",
       "    </tr>\n",
       "  </thead>\n",
       "  <tbody>\n",
       "    <tr>\n",
       "      <th>0</th>\n",
       "      <td>(0, 2, 3)</td>\n",
       "      <td>7977.503977</td>\n",
       "    </tr>\n",
       "    <tr>\n",
       "      <th>1</th>\n",
       "      <td>(0, 2, 4)</td>\n",
       "      <td>7978.239232</td>\n",
       "    </tr>\n",
       "    <tr>\n",
       "      <th>2</th>\n",
       "      <td>(2, 2, 3)</td>\n",
       "      <td>7979.902962</td>\n",
       "    </tr>\n",
       "    <tr>\n",
       "      <th>3</th>\n",
       "      <td>(0, 2, 5)</td>\n",
       "      <td>7979.956702</td>\n",
       "    </tr>\n",
       "    <tr>\n",
       "      <th>4</th>\n",
       "      <td>(0, 2, 6)</td>\n",
       "      <td>7981.950190</td>\n",
       "    </tr>\n",
       "    <tr>\n",
       "      <th>...</th>\n",
       "      <td>...</td>\n",
       "      <td>...</td>\n",
       "    </tr>\n",
       "    <tr>\n",
       "      <th>59</th>\n",
       "      <td>(3, 2, 0)</td>\n",
       "      <td>8545.106495</td>\n",
       "    </tr>\n",
       "    <tr>\n",
       "      <th>60</th>\n",
       "      <td>(2, 2, 0)</td>\n",
       "      <td>8695.505647</td>\n",
       "    </tr>\n",
       "    <tr>\n",
       "      <th>61</th>\n",
       "      <td>(0, 2, 1)</td>\n",
       "      <td>8753.775667</td>\n",
       "    </tr>\n",
       "    <tr>\n",
       "      <th>62</th>\n",
       "      <td>(1, 2, 0)</td>\n",
       "      <td>8930.397876</td>\n",
       "    </tr>\n",
       "    <tr>\n",
       "      <th>63</th>\n",
       "      <td>(0, 2, 0)</td>\n",
       "      <td>9423.982785</td>\n",
       "    </tr>\n",
       "  </tbody>\n",
       "</table>\n",
       "<p>64 rows × 2 columns</p>\n",
       "</div>"
      ],
      "text/plain": [
       "    (p, d, q)          AIC\n",
       "0   (0, 2, 3)  7977.503977\n",
       "1   (0, 2, 4)  7978.239232\n",
       "2   (2, 2, 3)  7979.902962\n",
       "3   (0, 2, 5)  7979.956702\n",
       "4   (0, 2, 6)  7981.950190\n",
       "..        ...          ...\n",
       "59  (3, 2, 0)  8545.106495\n",
       "60  (2, 2, 0)  8695.505647\n",
       "61  (0, 2, 1)  8753.775667\n",
       "62  (1, 2, 0)  8930.397876\n",
       "63  (0, 2, 0)  9423.982785\n",
       "\n",
       "[64 rows x 2 columns]"
      ]
     },
     "execution_count": 20,
     "metadata": {},
     "output_type": "execute_result"
    }
   ],
   "source": [
    "# Getting the order\n",
    "result = optimize_ARIMA(df['death_tr_2'], order_list)\n",
    "result"
   ]
  },
  {
   "cell_type": "code",
   "execution_count": 21,
   "metadata": {
    "colab": {
     "base_uri": "https://localhost:8080/"
    },
    "id": "aSPgdfQdimkM",
    "outputId": "51057471-7472-48a8-e9e0-1cd5be85f93d"
   },
   "outputs": [
    {
     "name": "stdout",
     "output_type": "stream",
     "text": [
      "                               SARIMAX Results                                \n",
      "==============================================================================\n",
      "Dep. Variable:             death_tr_2   No. Observations:                  560\n",
      "Model:                 ARIMA(6, 2, 3)   Log Likelihood               -4046.814\n",
      "Date:                Sun, 15 Oct 2023   AIC                           8113.628\n",
      "Time:                        15:58:17   BIC                           8156.872\n",
      "Sample:                             0   HQIC                          8130.516\n",
      "                                - 560                                         \n",
      "Covariance Type:                  opg                                         \n",
      "==============================================================================\n",
      "                 coef    std err          z      P>|z|      [0.025      0.975]\n",
      "------------------------------------------------------------------------------\n",
      "ar.L1         -2.6869      0.039    -69.443      0.000      -2.763      -2.611\n",
      "ar.L2         -3.9437      0.087    -45.315      0.000      -4.114      -3.773\n",
      "ar.L3         -3.6940      0.114    -32.269      0.000      -3.918      -3.470\n",
      "ar.L4         -2.6033      0.113    -23.009      0.000      -2.825      -2.382\n",
      "ar.L5         -1.2997      0.075    -17.345      0.000      -1.447      -1.153\n",
      "ar.L6         -0.3612      0.028    -12.975      0.000      -0.416      -0.307\n",
      "ma.L1          0.3623      0.061      5.932      0.000       0.243       0.482\n",
      "ma.L2         -0.3894      0.041     -9.449      0.000      -0.470      -0.309\n",
      "ma.L3         -0.9727      0.037    -26.174      0.000      -1.046      -0.900\n",
      "sigma2      1.347e+05   7.44e-07   1.81e+11      0.000    1.35e+05    1.35e+05\n",
      "===================================================================================\n",
      "Ljung-Box (L1) (Q):                   2.33   Jarque-Bera (JB):            109326.11\n",
      "Prob(Q):                              0.13   Prob(JB):                         0.00\n",
      "Heteroskedasticity (H):               9.15   Skew:                             4.58\n",
      "Prob(H) (two-sided):                  0.00   Kurtosis:                        70.96\n",
      "===================================================================================\n",
      "\n",
      "Warnings:\n",
      "[1] Covariance matrix calculated using the outer product of gradients (complex-step).\n",
      "[2] Covariance matrix is singular or near-singular, with condition number 6.21e+26. Standard errors may be unstable.\n"
     ]
    }
   ],
   "source": [
    "model = ARIMA(df['death_tr_2'], order=(6,2,3))\n",
    "result = model.fit()\n",
    "print(result.summary())"
   ]
  },
  {
   "cell_type": "code",
   "execution_count": 22,
   "metadata": {
    "colab": {
     "base_uri": "https://localhost:8080/",
     "height": 469
    },
    "id": "9GajbjHilQ8z",
    "outputId": "afd697ea-0105-4ff5-bccf-9f53cee75d62"
   },
   "outputs": [
    {
     "data": {
      "text/plain": [
       "<Figure size 1200x600 with 0 Axes>"
      ]
     },
     "metadata": {},
     "output_type": "display_data"
    },
    {
     "data": {
      "image/png": "[encoded data removed]",
      "text/plain": [
       "<Figure size 640x480 with 1 Axes>"
      ]
     },
     "metadata": {},
     "output_type": "display_data"
    }
   ],
   "source": [
    "# Forecasting\n",
    "plt.figure(figsize=(12, 6))\n",
    "n_forecast = 100\n",
    "predict = result.get_prediction(end=model.nobs + n_forecast)\n",
    "idx = np.arange(len(predict.predicted_mean))\n",
    "\n",
    "fig, ax = plt.subplots()\n",
    "ax.plot(df['death_tr_2'], 'red')\n",
    "ax.plot(idx[-n_forecast:], predict.predicted_mean[-n_forecast:], 'k--')\n",
    "\n",
    "ax.set(title='Forecast of Deaths')\n",
    "plt.show()"
   ]
  },
  {
   "cell_type": "code",
   "execution_count": 23,
   "metadata": {
    "colab": {
     "base_uri": "https://localhost:8080/",
     "height": 363
    },
    "id": "jm48Ln48mLMX",
    "outputId": "fb4de83f-f74f-4b9a-cd8d-f0a82de220b9"
   },
   "outputs": [
    {
     "data": {
      "text/html": [
       "<div>\n",
       "<style scoped>\n",
       "    .dataframe tbody tr th:only-of-type {\n",
       "        vertical-align: middle;\n",
       "    }\n",
       "\n",
       "    .dataframe tbody tr th {\n",
       "        vertical-align: top;\n",
       "    }\n",
       "\n",
       "    .dataframe thead th {\n",
       "        text-align: right;\n",
       "    }\n",
       "</style>\n",
       "<table border=\"1\" class=\"dataframe\">\n",
       "  <thead>\n",
       "    <tr style=\"text-align: right;\">\n",
       "      <th></th>\n",
       "      <th>Date</th>\n",
       "      <th>Deaths</th>\n",
       "      <th>death_tr_1</th>\n",
       "      <th>death_tr_2</th>\n",
       "      <th>mean_death</th>\n",
       "    </tr>\n",
       "  </thead>\n",
       "  <tbody>\n",
       "    <tr>\n",
       "      <th>550</th>\n",
       "      <td>2021-08-02</td>\n",
       "      <td>424773</td>\n",
       "      <td>422.0</td>\n",
       "      <td>-119.0</td>\n",
       "      <td>34.350978</td>\n",
       "    </tr>\n",
       "    <tr>\n",
       "      <th>551</th>\n",
       "      <td>2021-08-03</td>\n",
       "      <td>425195</td>\n",
       "      <td>422.0</td>\n",
       "      <td>0.0</td>\n",
       "      <td>-179.750083</td>\n",
       "    </tr>\n",
       "    <tr>\n",
       "      <th>552</th>\n",
       "      <td>2021-08-04</td>\n",
       "      <td>425757</td>\n",
       "      <td>562.0</td>\n",
       "      <td>140.0</td>\n",
       "      <td>243.147291</td>\n",
       "    </tr>\n",
       "    <tr>\n",
       "      <th>553</th>\n",
       "      <td>2021-08-05</td>\n",
       "      <td>426290</td>\n",
       "      <td>533.0</td>\n",
       "      <td>-29.0</td>\n",
       "      <td>-319.543866</td>\n",
       "    </tr>\n",
       "    <tr>\n",
       "      <th>554</th>\n",
       "      <td>2021-08-06</td>\n",
       "      <td>426754</td>\n",
       "      <td>464.0</td>\n",
       "      <td>-69.0</td>\n",
       "      <td>-24.639653</td>\n",
       "    </tr>\n",
       "    <tr>\n",
       "      <th>555</th>\n",
       "      <td>2021-08-07</td>\n",
       "      <td>427371</td>\n",
       "      <td>617.0</td>\n",
       "      <td>153.0</td>\n",
       "      <td>219.812377</td>\n",
       "    </tr>\n",
       "    <tr>\n",
       "      <th>556</th>\n",
       "      <td>2021-08-08</td>\n",
       "      <td>427862</td>\n",
       "      <td>491.0</td>\n",
       "      <td>-126.0</td>\n",
       "      <td>-290.262600</td>\n",
       "    </tr>\n",
       "    <tr>\n",
       "      <th>557</th>\n",
       "      <td>2021-08-09</td>\n",
       "      <td>428309</td>\n",
       "      <td>447.0</td>\n",
       "      <td>-44.0</td>\n",
       "      <td>270.040898</td>\n",
       "    </tr>\n",
       "    <tr>\n",
       "      <th>558</th>\n",
       "      <td>2021-08-10</td>\n",
       "      <td>428682</td>\n",
       "      <td>373.0</td>\n",
       "      <td>-74.0</td>\n",
       "      <td>21.168269</td>\n",
       "    </tr>\n",
       "    <tr>\n",
       "      <th>559</th>\n",
       "      <td>2021-08-11</td>\n",
       "      <td>429179</td>\n",
       "      <td>497.0</td>\n",
       "      <td>124.0</td>\n",
       "      <td>-186.784775</td>\n",
       "    </tr>\n",
       "  </tbody>\n",
       "</table>\n",
       "</div>"
      ],
      "text/plain": [
       "           Date  Deaths  death_tr_1  death_tr_2  mean_death\n",
       "550  2021-08-02  424773       422.0      -119.0   34.350978\n",
       "551  2021-08-03  425195       422.0         0.0 -179.750083\n",
       "552  2021-08-04  425757       562.0       140.0  243.147291\n",
       "553  2021-08-05  426290       533.0       -29.0 -319.543866\n",
       "554  2021-08-06  426754       464.0       -69.0  -24.639653\n",
       "555  2021-08-07  427371       617.0       153.0  219.812377\n",
       "556  2021-08-08  427862       491.0      -126.0 -290.262600\n",
       "557  2021-08-09  428309       447.0       -44.0  270.040898\n",
       "558  2021-08-10  428682       373.0       -74.0   21.168269\n",
       "559  2021-08-11  429179       497.0       124.0 -186.784775"
      ]
     },
     "execution_count": 23,
     "metadata": {},
     "output_type": "execute_result"
    }
   ],
   "source": [
    "df['mean_death'] = predict.predicted_mean\n",
    "df.tail(10)"
   ]
  },
  {
   "cell_type": "markdown",
   "metadata": {
    "id": "31aN0y17IOhX"
   },
   "source": [
    "**MA Model**"
   ]
  },
  {
   "cell_type": "code",
   "execution_count": 24,
   "metadata": {
    "id": "XSOoobqHI9zN"
   },
   "outputs": [],
   "source": [
    "# Fitting the MA model\n",
    "order = 1\n",
    "ma_model = ARIMA(df['death_tr_2'], order=(0, 2, order))\n",
    "ma_fit = ma_model.fit()"
   ]
  },
  {
   "cell_type": "code",
   "execution_count": 25,
   "metadata": {
    "colab": {
     "base_uri": "https://localhost:8080/"
    },
    "id": "k2V3XilIWSQc",
    "outputId": "e2a08c1a-761d-4061-cc8c-0b2ba9006dae"
   },
   "outputs": [
    {
     "name": "stdout",
     "output_type": "stream",
     "text": [
      "                               SARIMAX Results                                \n",
      "==============================================================================\n",
      "Dep. Variable:             death_tr_2   No. Observations:                  560\n",
      "Model:                 ARIMA(0, 2, 1)   Log Likelihood               -4374.888\n",
      "Date:                Sun, 15 Oct 2023   AIC                           8753.776\n",
      "Time:                        15:58:18   BIC                           8762.424\n",
      "Sample:                             0   HQIC                          8757.153\n",
      "                                - 560                                         \n",
      "Covariance Type:                  opg                                         \n",
      "==============================================================================\n",
      "                 coef    std err          z      P>|z|      [0.025      0.975]\n",
      "------------------------------------------------------------------------------\n",
      "ma.L1         -0.9997      0.294     -3.398      0.001      -1.576      -0.423\n",
      "sigma2      3.728e+05    1.1e+05      3.383      0.001    1.57e+05    5.89e+05\n",
      "===================================================================================\n",
      "Ljung-Box (L1) (Q):                 263.54   Jarque-Bera (JB):            108706.03\n",
      "Prob(Q):                              0.00   Prob(JB):                         0.00\n",
      "Heteroskedasticity (H):              10.19   Skew:                            -4.09\n",
      "Prob(H) (two-sided):                  0.00   Kurtosis:                        70.89\n",
      "===================================================================================\n",
      "\n",
      "Warnings:\n",
      "[1] Covariance matrix calculated using the outer product of gradients (complex-step).\n"
     ]
    }
   ],
   "source": [
    "print(ma_fit.summary())"
   ]
  },
  {
   "cell_type": "code",
   "execution_count": 26,
   "metadata": {
    "id": "cJsH0WHgTRmj"
   },
   "outputs": [],
   "source": [
    "# Forecasting\n",
    "forecast_steps = 730\n",
    "forecast = ma_fit.forecast(steps=forecast_steps)\n",
    "n_forecast = 3\n",
    "predict = ma_fit.get_prediction(end=ma_model.nobs + n_forecast)\n",
    "idx = np.arange(len(predict.predicted_mean))\n",
    "\n",
    "predict.predicted_mean.tail(3)\n",
    "ma_death_mean = predict.predicted_mean"
   ]
  },
  {
   "cell_type": "code",
   "execution_count": 27,
   "metadata": {
    "colab": {
     "base_uri": "https://localhost:8080/",
     "height": 469
    },
    "id": "FRN-xdPLTeeP",
    "outputId": "36b12ad2-4919-4438-e6a3-aee1fd639852"
   },
   "outputs": [
    {
     "data": {
      "text/plain": [
       "<Figure size 1200x600 with 0 Axes>"
      ]
     },
     "metadata": {},
     "output_type": "display_data"
    },
    {
     "data": {
      "image/png": "[encoded data removed]",
      "text/plain": [
       "<Figure size 640x480 with 1 Axes>"
      ]
     },
     "metadata": {},
     "output_type": "display_data"
    }
   ],
   "source": [
    "plt.figure(figsize=(12, 6))\n",
    "n_forecast = 100\n",
    "predict = result.get_prediction(end=ma_model.nobs + n_forecast)\n",
    "idx = np.arange(len(ma_death_mean))\n",
    "\n",
    "fig, ax = plt.subplots()\n",
    "ax.plot(df['death_tr_2'], 'red')\n",
    "ax.plot(idx[-n_forecast:], ma_death_mean[-n_forecast:], 'k--')\n",
    "\n",
    "ax.set(title='Forecast of Deaths')\n",
    "plt.show()"
   ]
  },
  {
   "cell_type": "code",
   "execution_count": 30,
   "metadata": {},
   "outputs": [],
   "source": [
    "df2 = pd.read_csv('covid_19_india.csv')\n",
    "df2 = df2.groupby('Date', as_index=False)['Cured'].sum()\n",
    "\n",
    "df2[\"death_tr_2\"] = df[\"death_tr_2\"]"
   ]
  },
  {
   "cell_type": "markdown",
   "metadata": {},
   "source": [
    "# CHECKING STATIONARITY FOR CURED "
   ]
  },
  {
   "cell_type": "code",
   "execution_count": 31,
   "metadata": {},
   "outputs": [
    {
     "name": "stdout",
     "output_type": "stream",
     "text": [
      "Cured\n",
      "ADF Statistic: 1.5871659199349608\n",
      "p-value: 0.997818557036317\n"
     ]
    }
   ],
   "source": [
    "ad_fuller_result_1 = adfuller(df2['Cured'])\n",
    "\n",
    "print('Cured')\n",
    "print(f'ADF Statistic: {ad_fuller_result_1[0]}')\n",
    "print(f'p-value: {ad_fuller_result_1[1]}')"
   ]
  },
  {
   "cell_type": "code",
   "execution_count": 32,
   "metadata": {},
   "outputs": [
    {
     "data": {
      "text/html": [
       "<div>\n",
       "<style scoped>\n",
       "    .dataframe tbody tr th:only-of-type {\n",
       "        vertical-align: middle;\n",
       "    }\n",
       "\n",
       "    .dataframe tbody tr th {\n",
       "        vertical-align: top;\n",
       "    }\n",
       "\n",
       "    .dataframe thead th {\n",
       "        text-align: right;\n",
       "    }\n",
       "</style>\n",
       "<table border=\"1\" class=\"dataframe\">\n",
       "  <thead>\n",
       "    <tr style=\"text-align: right;\">\n",
       "      <th></th>\n",
       "      <th>Date</th>\n",
       "      <th>Cured</th>\n",
       "      <th>death_tr_2</th>\n",
       "      <th>cured_tr_1</th>\n",
       "    </tr>\n",
       "  </thead>\n",
       "  <tbody>\n",
       "    <tr>\n",
       "      <th>0</th>\n",
       "      <td>2020-01-30</td>\n",
       "      <td>0</td>\n",
       "      <td>NaN</td>\n",
       "      <td>NaN</td>\n",
       "    </tr>\n",
       "    <tr>\n",
       "      <th>1</th>\n",
       "      <td>2020-01-31</td>\n",
       "      <td>0</td>\n",
       "      <td>NaN</td>\n",
       "      <td>0.0</td>\n",
       "    </tr>\n",
       "    <tr>\n",
       "      <th>2</th>\n",
       "      <td>2020-02-01</td>\n",
       "      <td>0</td>\n",
       "      <td>0.0</td>\n",
       "      <td>0.0</td>\n",
       "    </tr>\n",
       "    <tr>\n",
       "      <th>3</th>\n",
       "      <td>2020-02-02</td>\n",
       "      <td>0</td>\n",
       "      <td>0.0</td>\n",
       "      <td>0.0</td>\n",
       "    </tr>\n",
       "    <tr>\n",
       "      <th>4</th>\n",
       "      <td>2020-02-03</td>\n",
       "      <td>0</td>\n",
       "      <td>0.0</td>\n",
       "      <td>0.0</td>\n",
       "    </tr>\n",
       "  </tbody>\n",
       "</table>\n",
       "</div>"
      ],
      "text/plain": [
       "         Date  Cured  death_tr_2  cured_tr_1\n",
       "0  2020-01-30      0         NaN         NaN\n",
       "1  2020-01-31      0         NaN         0.0\n",
       "2  2020-02-01      0         0.0         0.0\n",
       "3  2020-02-02      0         0.0         0.0\n",
       "4  2020-02-03      0         0.0         0.0"
      ]
     },
     "execution_count": 32,
     "metadata": {},
     "output_type": "execute_result"
    }
   ],
   "source": [
    "df2[\"cured_tr_1\"] = df2[\"Cured\"].diff()\n",
    "df2.head()"
   ]
  },
  {
   "cell_type": "code",
   "execution_count": 56,
   "metadata": {},
   "outputs": [],
   "source": [
    "def optimize_VAR(endog):\n",
    "    \"\"\"\n",
    "        Returns a dataframe with parameters and corresponding MSE\n",
    "        \n",
    "        endog - observed time series\n",
    "    \"\"\"\n",
    "    \n",
    "    results = []\n",
    "    \n",
    "    for i in tqdm_notebook(range(15)):\n",
    "        try:\n",
    "            model = VARMAX(endog, order=(i, 0)).fit(dips=False)\n",
    "        except:\n",
    "            continue\n",
    "            \n",
    "        mse = model.aic\n",
    "        results.append([i, mse])\n",
    "        \n",
    "    result_df = pd.DataFrame(results)\n",
    "    result_df.columns = ['p', 'aic']\n",
    "    \n",
    "    result_df = result_df.sort_values(by='aic', ascending=True).reset_index(drop=True)\n",
    "    \n",
    "    return result_df"
   ]
  },
  {
   "cell_type": "code",
   "execution_count": 57,
   "metadata": {},
   "outputs": [
    {
     "name": "stdout",
     "output_type": "stream",
     "text": [
      "Cured\n",
      "ADF Statistic: -3.5372154706414496\n",
      "p-value: 0.00708120754885506\n"
     ]
    }
   ],
   "source": [
    "ad_fuller_result_2 = adfuller(df2['cured_tr_1'][1:])\n",
    "\n",
    "print('Cured')\n",
    "print(f'ADF Statistic: {ad_fuller_result_2[0]}')\n",
    "print(f'p-value: {ad_fuller_result_2[1]}')"
   ]
  },
  {
   "cell_type": "code",
   "execution_count": null,
   "metadata": {},
   "outputs": [],
   "source": []
  },
  {
   "cell_type": "code",
   "execution_count": 58,
   "metadata": {},
   "outputs": [
    {
     "data": {
      "application/vnd.jupyter.widget-view+json": {
       "model_id": "0a3aa618e8e24456bedd6a5cfdc846b2",
       "version_major": 2,
       "version_minor": 0
      },
      "text/plain": [
       "  0%|          | 0/15 [00:00<?, ?it/s]"
      ]
     },
     "metadata": {},
     "output_type": "display_data"
    },
    {
     "data": {
      "text/html": [
       "<div>\n",
       "<style scoped>\n",
       "    .dataframe tbody tr th:only-of-type {\n",
       "        vertical-align: middle;\n",
       "    }\n",
       "\n",
       "    .dataframe tbody tr th {\n",
       "        vertical-align: top;\n",
       "    }\n",
       "\n",
       "    .dataframe thead th {\n",
       "        text-align: right;\n",
       "    }\n",
       "</style>\n",
       "<table border=\"1\" class=\"dataframe\">\n",
       "  <thead>\n",
       "    <tr style=\"text-align: right;\">\n",
       "      <th></th>\n",
       "      <th>p</th>\n",
       "      <th>aic</th>\n",
       "    </tr>\n",
       "  </thead>\n",
       "  <tbody>\n",
       "    <tr>\n",
       "      <th>0</th>\n",
       "      <td>13</td>\n",
       "      <td>19364.399540</td>\n",
       "    </tr>\n",
       "    <tr>\n",
       "      <th>1</th>\n",
       "      <td>11</td>\n",
       "      <td>19369.816351</td>\n",
       "    </tr>\n",
       "    <tr>\n",
       "      <th>2</th>\n",
       "      <td>10</td>\n",
       "      <td>19370.262839</td>\n",
       "    </tr>\n",
       "    <tr>\n",
       "      <th>3</th>\n",
       "      <td>12</td>\n",
       "      <td>19376.544402</td>\n",
       "    </tr>\n",
       "    <tr>\n",
       "      <th>4</th>\n",
       "      <td>8</td>\n",
       "      <td>19401.347462</td>\n",
       "    </tr>\n",
       "    <tr>\n",
       "      <th>5</th>\n",
       "      <td>9</td>\n",
       "      <td>19405.809264</td>\n",
       "    </tr>\n",
       "    <tr>\n",
       "      <th>6</th>\n",
       "      <td>6</td>\n",
       "      <td>19445.595648</td>\n",
       "    </tr>\n",
       "    <tr>\n",
       "      <th>7</th>\n",
       "      <td>5</td>\n",
       "      <td>19473.402676</td>\n",
       "    </tr>\n",
       "    <tr>\n",
       "      <th>8</th>\n",
       "      <td>4</td>\n",
       "      <td>19511.001765</td>\n",
       "    </tr>\n",
       "    <tr>\n",
       "      <th>9</th>\n",
       "      <td>3</td>\n",
       "      <td>19546.247709</td>\n",
       "    </tr>\n",
       "    <tr>\n",
       "      <th>10</th>\n",
       "      <td>2</td>\n",
       "      <td>19568.548509</td>\n",
       "    </tr>\n",
       "    <tr>\n",
       "      <th>11</th>\n",
       "      <td>1</td>\n",
       "      <td>19629.805218</td>\n",
       "    </tr>\n",
       "    <tr>\n",
       "      <th>12</th>\n",
       "      <td>14</td>\n",
       "      <td>22583.883726</td>\n",
       "    </tr>\n",
       "  </tbody>\n",
       "</table>\n",
       "</div>"
      ],
      "text/plain": [
       "     p           aic\n",
       "0   13  19364.399540\n",
       "1   11  19369.816351\n",
       "2   10  19370.262839\n",
       "3   12  19376.544402\n",
       "4    8  19401.347462\n",
       "5    9  19405.809264\n",
       "6    6  19445.595648\n",
       "7    5  19473.402676\n",
       "8    4  19511.001765\n",
       "9    3  19546.247709\n",
       "10   2  19568.548509\n",
       "11   1  19629.805218\n",
       "12  14  22583.883726"
      ]
     },
     "execution_count": 58,
     "metadata": {},
     "output_type": "execute_result"
    }
   ],
   "source": [
    "endog = df2[['cured_tr_1', 'death_tr_2']]\n",
    "result_df = optimize_VAR(endog)\n",
    "result_df\n",
    " "
   ]
  },
  {
   "cell_type": "code",
   "execution_count": 60,
   "metadata": {},
   "outputs": [
    {
     "name": "stdout",
     "output_type": "stream",
     "text": [
      "                                Statespace Model Results                                \n",
      "========================================================================================\n",
      "Dep. Variable:     ['cured_tr_1', 'death_tr_2']   No. Observations:                  560\n",
      "Model:                                  VAR(13)   Log Likelihood               -9625.200\n",
      "                                    + intercept   AIC                          19364.400\n",
      "Date:                          Sun, 15 Oct 2023   BIC                          19611.092\n",
      "Time:                                  16:18:27   HQIC                         19460.727\n",
      "Sample:                                       0                                         \n",
      "                                          - 560                                         \n",
      "Covariance Type:                            opg                                         \n",
      "===================================================================================\n",
      "Ljung-Box (L1) (Q):               nan, nan   Jarque-Bera (JB):   6929.76, 201762.33\n",
      "Prob(Q):                          nan, nan   Prob(JB):                   0.00, 0.00\n",
      "Heteroskedasticity (H):        27.05, 9.77   Skew:                       0.95, 7.37\n",
      "Prob(H) (two-sided):            0.00, 0.00   Kurtosis:                 20.14, 94.98\n",
      "                         Results for equation cured_tr_1                          \n",
      "==================================================================================\n",
      "                     coef    std err          z      P>|z|      [0.025      0.975]\n",
      "----------------------------------------------------------------------------------\n",
      "intercept        866.9162    655.596      1.322      0.186    -418.029    2151.861\n",
      "L1.cured_tr_1      0.6642      0.044     15.259      0.000       0.579       0.750\n",
      "L1.death_tr_2      0.4598      1.556      0.296      0.768      -2.590       3.509\n",
      "L2.cured_tr_1      0.2218      0.047      4.721      0.000       0.130       0.314\n",
      "L2.death_tr_2      0.0906      2.437      0.037      0.970      -4.686       4.867\n",
      "L3.cured_tr_1      0.2327      0.043      5.401      0.000       0.148       0.317\n",
      "L3.death_tr_2      2.0668      2.153      0.960      0.337      -2.152       6.286\n",
      "L4.cured_tr_1      0.0172      0.045      0.387      0.699      -0.070       0.105\n",
      "L4.death_tr_2      3.0545      2.729      1.119      0.263      -2.293       8.402\n",
      "L5.cured_tr_1     -0.0317      0.053     -0.599      0.549      -0.135       0.072\n",
      "L5.death_tr_2      2.4115      2.610      0.924      0.355      -2.703       7.526\n",
      "L6.cured_tr_1     -0.1223      0.042     -2.888      0.004      -0.205      -0.039\n",
      "L6.death_tr_2      2.4556      2.544      0.965      0.334      -2.531       7.442\n",
      "L7.cured_tr_1      0.2741      0.054      5.059      0.000       0.168       0.380\n",
      "L7.death_tr_2      1.5608      2.654      0.588      0.556      -3.640       6.762\n",
      "L8.cured_tr_1     -0.1664      0.040     -4.110      0.000      -0.246      -0.087\n",
      "L8.death_tr_2     -0.1499      2.454     -0.061      0.951      -4.960       4.660\n",
      "L9.cured_tr_1      0.1102      0.030      3.629      0.000       0.051       0.170\n",
      "L9.death_tr_2      2.0839      2.552      0.817      0.414      -2.918       7.085\n",
      "L10.cured_tr_1    -0.2421      0.047     -5.158      0.000      -0.334      -0.150\n",
      "L10.death_tr_2     2.4676      2.301      1.073      0.283      -2.041       6.977\n",
      "L11.cured_tr_1     0.0618      0.048      1.288      0.198      -0.032       0.156\n",
      "L11.death_tr_2     2.2077      2.821      0.783      0.434      -3.321       7.736\n",
      "L12.cured_tr_1     0.0167      0.041      0.412      0.681      -0.063       0.096\n",
      "L12.death_tr_2     0.6354      2.680      0.237      0.813      -4.618       5.889\n",
      "L13.cured_tr_1    -0.0518      0.043     -1.201      0.230      -0.136       0.033\n",
      "L13.death_tr_2     0.2670      2.470      0.108      0.914      -4.575       5.109\n",
      "                         Results for equation death_tr_2                          \n",
      "==================================================================================\n",
      "                     coef    std err          z      P>|z|      [0.025      0.975]\n",
      "----------------------------------------------------------------------------------\n",
      "intercept          0.3559     37.080      0.010      0.992     -72.319      73.031\n",
      "L1.cured_tr_1      0.0071      0.003      2.641      0.008       0.002       0.012\n",
      "L1.death_tr_2     -0.6977      0.043    -16.255      0.000      -0.782      -0.614\n",
      "L2.cured_tr_1     -0.0032      0.003     -1.039      0.299      -0.009       0.003\n",
      "L2.death_tr_2     -0.4217      0.050     -8.361      0.000      -0.521      -0.323\n",
      "L3.cured_tr_1     -0.0012      0.004     -0.274      0.784      -0.010       0.007\n",
      "L3.death_tr_2     -0.3305      0.076     -4.355      0.000      -0.479      -0.182\n",
      "L4.cured_tr_1      0.0021      0.004      0.567      0.571      -0.005       0.009\n",
      "L4.death_tr_2     -0.2313      0.069     -3.356      0.001      -0.366      -0.096\n",
      "L5.cured_tr_1     -0.0049      0.003     -1.424      0.154      -0.012       0.002\n",
      "L5.death_tr_2     -0.1978      0.074     -2.660      0.008      -0.344      -0.052\n",
      "L6.cured_tr_1      0.0042      0.005      0.929      0.353      -0.005       0.013\n",
      "L6.death_tr_2     -0.2282      0.069     -3.306      0.001      -0.364      -0.093\n",
      "L7.cured_tr_1     -0.0008      0.003     -0.243      0.808      -0.007       0.006\n",
      "L7.death_tr_2     -0.2115      0.066     -3.197      0.001      -0.341      -0.082\n",
      "L8.cured_tr_1   7.385e-05      0.004      0.021      0.983      -0.007       0.007\n",
      "L8.death_tr_2     -0.0836      0.072     -1.155      0.248      -0.225       0.058\n",
      "L9.cured_tr_1      0.0006      0.005      0.140      0.889      -0.008       0.010\n",
      "L9.death_tr_2     -0.1160      0.105     -1.108      0.268      -0.321       0.089\n",
      "L10.cured_tr_1    -0.0059      0.003     -1.695      0.090      -0.013       0.001\n",
      "L10.death_tr_2    -0.1596      0.098     -1.633      0.102      -0.351       0.032\n",
      "L11.cured_tr_1     0.0047      0.004      1.255      0.210      -0.003       0.012\n",
      "L11.death_tr_2    -0.1280      0.088     -1.447      0.148      -0.301       0.045\n",
      "L12.cured_tr_1     0.0039      0.004      1.071      0.284      -0.003       0.011\n",
      "L12.death_tr_2    -0.1199      0.101     -1.188      0.235      -0.318       0.078\n",
      "L13.cured_tr_1    -0.0066      0.003     -2.531      0.011      -0.012      -0.001\n",
      "L13.death_tr_2    -0.1043      0.070     -1.491      0.136      -0.241       0.033\n",
      "                                     Error covariance matrix                                      \n",
      "==================================================================================================\n",
      "                                     coef    std err          z      P>|z|      [0.025      0.975]\n",
      "--------------------------------------------------------------------------------------------------\n",
      "sqrt.var.cured_tr_1             6702.6124    151.985     44.101      0.000    6404.728    7000.497\n",
      "sqrt.cov.cured_tr_1.death_tr_2    -0.5527     33.730     -0.016      0.987     -66.663      65.557\n",
      "sqrt.var.death_tr_2              282.0113      5.188     54.357      0.000     271.843     292.180\n",
      "==================================================================================================\n",
      "\n",
      "Warnings:\n",
      "[1] Covariance matrix calculated using the outer product of gradients (complex-step).\n",
      "[2] Covariance matrix is singular or near-singular, with condition number 9.45e+14. Standard errors may be unstable.\n"
     ]
    }
   ],
   "source": [
    "best_model = VARMAX(endog, order=(13,0))\n",
    "res = best_model.fit(disp=False)\n",
    "print(res.summary())"
   ]
  },
  {
   "cell_type": "code",
   "execution_count": 65,
   "metadata": {},
   "outputs": [
    {
     "data": {
      "text/plain": [
       "<Figure size 1200x600 with 0 Axes>"
      ]
     },
     "metadata": {},
     "output_type": "display_data"
    },
    {
     "data": {
      "image/png": "[encoded data removed]",
      "text/plain": [
       "<Figure size 640x480 with 1 Axes>"
      ]
     },
     "metadata": {},
     "output_type": "display_data"
    },
    {
     "data": {
      "text/plain": [
       "<Figure size 1200x600 with 0 Axes>"
      ]
     },
     "metadata": {},
     "output_type": "display_data"
    },
    {
     "data": {
      "image/png": "[encoded data removed]",
      "text/plain": [
       "<Figure size 640x480 with 1 Axes>"
      ]
     },
     "metadata": {},
     "output_type": "display_data"
    },
    {
     "data": {
      "text/plain": [
       "<Figure size 640x480 with 0 Axes>"
      ]
     },
     "metadata": {},
     "output_type": "display_data"
    }
   ],
   "source": [
    "n_forecast = 100\n",
    "predict = res.get_prediction(end=best_model.nobs + n_forecast)\n",
    "idx = np.arange(len(predict.predicted_mean))\n",
    "cured_mean = predict.predicted_mean[\"cured_tr_1\"]\n",
    "death_mean = predict.predicted_mean[\"death_tr_2\"]\n",
    "\n",
    "plt.figure(figsize=(12, 6))\n",
    "\n",
    "\n",
    "fig, ax = plt.subplots()\n",
    "ax.plot(df2['death_tr_2'], 'red')\n",
    "ax.plot(idx[-n_forecast:], death_mean[-n_forecast:], 'k--')\n",
    "\n",
    "ax.set(title='Forecast of Deaths')\n",
    "plt.show()\n",
    "#**\n",
    "plt.figure(figsize=(12, 6))\n",
    "\n",
    "\n",
    "fig, ax = plt.subplots()\n",
    "ax.plot(df2['cured_tr_1'], 'blue')\n",
    "ax.plot(idx[-n_forecast:], cured_mean[-n_forecast:], 'k--')\n",
    "\n",
    "ax.set(title='Forecast of cured')\n",
    "plt.show()\n",
    "\n",
    "plt.tight_layout()\n"
   ]
  },
  {
   "cell_type": "code",
   "execution_count": null,
   "metadata": {},
   "outputs": [],
   "source": []
  }
 ],
 "metadata": {
  "colab": {
   "provenance": []
  },
  "kernelspec": {
   "display_name": "Python 3 (ipykernel)",
   "language": "python",
   "name": "python3"
  },
  "language_info": {
   "codemirror_mode": {
    "name": "ipython",
    "version": 3
   },
   "file_extension": ".py",
   "mimetype": "text/x-python",
   "name": "python",
   "nbconvert_exporter": "python",
   "pygments_lexer": "ipython3",
   "version": "3.9.18"
  },
  "widgets": {
   "application/vnd.jupyter.widget-state+json": {
    "1c4e2d969ae9498aa00500ba2c00dfdd": {
     "model_module": "@jupyter-widgets/controls",
     "model_module_version": "1.5.0",
     "model_name": "HBoxModel",
     "state": {
      "_dom_classes": [],
      "_model_module": "@jupyter-widgets/controls",
      "_model_module_version": "1.5.0",
      "_model_name": "HBoxModel",
      "_view_count": null,
      "_view_module": "@jupyter-widgets/controls",
      "_view_module_version": "1.5.0",
      "_view_name": "HBoxView",
      "box_style": "",
      "children": [
       "IPY_MODEL_ac30a4d6ee004f64b05daf84c57df788",
       "IPY_MODEL_55a9ce17be7a416abcd83ba34f10e2ba",
       "IPY_MODEL_2ab30533a466470d99a9e217b6945cb9"
      ],
      "layout": "IPY_MODEL_7be824ff3d7d4fe7a59cc30f888cef72"
     }
    },
    "2ab30533a466470d99a9e217b6945cb9": {
     "model_module": "@jupyter-widgets/controls",
     "model_module_version": "1.5.0",
     "model_name": "HTMLModel",
     "state": {
      "_dom_classes": [],
      "_model_module": "@jupyter-widgets/controls",
      "_model_module_version": "1.5.0",
      "_model_name": "HTMLModel",
      "_view_count": null,
      "_view_module": "@jupyter-widgets/controls",
      "_view_module_version": "1.5.0",
      "_view_name": "HTMLView",
      "description": "",
      "description_tooltip": null,
      "layout": "IPY_MODEL_4e7953e86dc8466da29996016a50c026",
      "placeholder": "​",
      "style": "IPY_MODEL_c1fc06f277e24fc4a963e902b9a87c6a",
      "value": " 64/64 [02:21&lt;00:00,  3.95s/it]"
     }
    },
    "4cfd7e6120c0494b9c37d36b6a138172": {
     "model_module": "@jupyter-widgets/controls",
     "model_module_version": "1.5.0",
     "model_name": "DescriptionStyleModel",
     "state": {
      "_model_module": "@jupyter-widgets/controls",
      "_model_module_version": "1.5.0",
      "_model_name": "DescriptionStyleModel",
      "_view_count": null,
      "_view_module": "@jupyter-widgets/base",
      "_view_module_version": "1.2.0",
      "_view_name": "StyleView",
      "description_width": ""
     }
    },
    "4e7953e86dc8466da29996016a50c026": {
     "model_module": "@jupyter-widgets/base",
     "model_module_version": "1.2.0",
     "model_name": "LayoutModel",
     "state": {
      "_model_module": "@jupyter-widgets/base",
      "_model_module_version": "1.2.0",
      "_model_name": "LayoutModel",
      "_view_count": null,
      "_view_module": "@jupyter-widgets/base",
      "_view_module_version": "1.2.0",
      "_view_name": "LayoutView",
      "align_content": null,
      "align_items": null,
      "align_self": null,
      "border": null,
      "bottom": null,
      "display": null,
      "flex": null,
      "flex_flow": null,
      "grid_area": null,
      "grid_auto_columns": null,
      "grid_auto_flow": null,
      "grid_auto_rows": null,
      "grid_column": null,
      "grid_gap": null,
      "grid_row": null,
      "grid_template_areas": null,
      "grid_template_columns": null,
      "grid_template_rows": null,
      "height": null,
      "justify_content": null,
      "justify_items": null,
      "left": null,
      "margin": null,
      "max_height": null,
      "max_width": null,
      "min_height": null,
      "min_width": null,
      "object_fit": null,
      "object_position": null,
      "order": null,
      "overflow": null,
      "overflow_x": null,
      "overflow_y": null,
      "padding": null,
      "right": null,
      "top": null,
      "visibility": null,
      "width": null
     }
    },
    "55a9ce17be7a416abcd83ba34f10e2ba": {
     "model_module": "@jupyter-widgets/controls",
     "model_module_version": "1.5.0",
     "model_name": "FloatProgressModel",
     "state": {
      "_dom_classes": [],
      "_model_module": "@jupyter-widgets/controls",
      "_model_module_version": "1.5.0",
      "_model_name": "FloatProgressModel",
      "_view_count": null,
      "_view_module": "@jupyter-widgets/controls",
      "_view_module_version": "1.5.0",
      "_view_name": "ProgressView",
      "bar_style": "success",
      "description": "",
      "description_tooltip": null,
      "layout": "IPY_MODEL_b7a57033aae2426382bb8ca424727100",
      "max": 64,
      "min": 0,
      "orientation": "horizontal",
      "style": "IPY_MODEL_8167f468c6674032afc4385c286d2189",
      "value": 64
     }
    },
    "7be824ff3d7d4fe7a59cc30f888cef72": {
     "model_module": "@jupyter-widgets/base",
     "model_module_version": "1.2.0",
     "model_name": "LayoutModel",
     "state": {
      "_model_module": "@jupyter-widgets/base",
      "_model_module_version": "1.2.0",
      "_model_name": "LayoutModel",
      "_view_count": null,
      "_view_module": "@jupyter-widgets/base",
      "_view_module_version": "1.2.0",
      "_view_name": "LayoutView",
      "align_content": null,
      "align_items": null,
      "align_self": null,
      "border": null,
      "bottom": null,
      "display": null,
      "flex": null,
      "flex_flow": null,
      "grid_area": null,
      "grid_auto_columns": null,
      "grid_auto_flow": null,
      "grid_auto_rows": null,
      "grid_column": null,
      "grid_gap": null,
      "grid_row": null,
      "grid_template_areas": null,
      "grid_template_columns": null,
      "grid_template_rows": null,
      "height": null,
      "justify_content": null,
      "justify_items": null,
      "left": null,
      "margin": null,
      "max_height": null,
      "max_width": null,
      "min_height": null,
      "min_width": null,
      "object_fit": null,
      "object_position": null,
      "order": null,
      "overflow": null,
      "overflow_x": null,
      "overflow_y": null,
      "padding": null,
      "right": null,
      "top": null,
      "visibility": null,
      "width": null
     }
    },
    "8167f468c6674032afc4385c286d2189": {
     "model_module": "@jupyter-widgets/controls",
     "model_module_version": "1.5.0",
     "model_name": "ProgressStyleModel",
     "state": {
      "_model_module": "@jupyter-widgets/controls",
      "_model_module_version": "1.5.0",
      "_model_name": "ProgressStyleModel",
      "_view_count": null,
      "_view_module": "@jupyter-widgets/base",
      "_view_module_version": "1.2.0",
      "_view_name": "StyleView",
      "bar_color": null,
      "description_width": ""
     }
    },
    "ac30a4d6ee004f64b05daf84c57df788": {
     "model_module": "@jupyter-widgets/controls",
     "model_module_version": "1.5.0",
     "model_name": "HTMLModel",
     "state": {
      "_dom_classes": [],
      "_model_module": "@jupyter-widgets/controls",
      "_model_module_version": "1.5.0",
      "_model_name": "HTMLModel",
      "_view_count": null,
      "_view_module": "@jupyter-widgets/controls",
      "_view_module_version": "1.5.0",
      "_view_name": "HTMLView",
      "description": "",
      "description_tooltip": null,
      "layout": "IPY_MODEL_bee1b0187af54fd8a642f20e9ab44f76",
      "placeholder": "​",
      "style": "IPY_MODEL_4cfd7e6120c0494b9c37d36b6a138172",
      "value": "100%"
     }
    },
    "b7a57033aae2426382bb8ca424727100": {
     "model_module": "@jupyter-widgets/base",
     "model_module_version": "1.2.0",
     "model_name": "LayoutModel",
     "state": {
      "_model_module": "@jupyter-widgets/base",
      "_model_module_version": "1.2.0",
      "_model_name": "LayoutModel",
      "_view_count": null,
      "_view_module": "@jupyter-widgets/base",
      "_view_module_version": "1.2.0",
      "_view_name": "LayoutView",
      "align_content": null,
      "align_items": null,
      "align_self": null,
      "border": null,
      "bottom": null,
      "display": null,
      "flex": null,
      "flex_flow": null,
      "grid_area": null,
      "grid_auto_columns": null,
      "grid_auto_flow": null,
      "grid_auto_rows": null,
      "grid_column": null,
      "grid_gap": null,
      "grid_row": null,
      "grid_template_areas": null,
      "grid_template_columns": null,
      "grid_template_rows": null,
      "height": null,
      "justify_content": null,
      "justify_items": null,
      "left": null,
      "margin": null,
      "max_height": null,
      "max_width": null,
      "min_height": null,
      "min_width": null,
      "object_fit": null,
      "object_position": null,
      "order": null,
      "overflow": null,
      "overflow_x": null,
      "overflow_y": null,
      "padding": null,
      "right": null,
      "top": null,
      "visibility": null,
      "width": null
     }
    },
    "bee1b0187af54fd8a642f20e9ab44f76": {
     "model_module": "@jupyter-widgets/base",
     "model_module_version": "1.2.0",
     "model_name": "LayoutModel",
     "state": {
      "_model_module": "@jupyter-widgets/base",
      "_model_module_version": "1.2.0",
      "_model_name": "LayoutModel",
      "_view_count": null,
      "_view_module": "@jupyter-widgets/base",
      "_view_module_version": "1.2.0",
      "_view_name": "LayoutView",
      "align_content": null,
      "align_items": null,
      "align_self": null,
      "border": null,
      "bottom": null,
      "display": null,
      "flex": null,
      "flex_flow": null,
      "grid_area": null,
      "grid_auto_columns": null,
      "grid_auto_flow": null,
      "grid_auto_rows": null,
      "grid_column": null,
      "grid_gap": null,
      "grid_row": null,
      "grid_template_areas": null,
      "grid_template_columns": null,
      "grid_template_rows": null,
      "height": null,
      "justify_content": null,
      "justify_items": null,
      "left": null,
      "margin": null,
      "max_height": null,
      "max_width": null,
      "min_height": null,
      "min_width": null,
      "object_fit": null,
      "object_position": null,
      "order": null,
      "overflow": null,
      "overflow_x": null,
      "overflow_y": null,
      "padding": null,
      "right": null,
      "top": null,
      "visibility": null,
      "width": null
     }
    },
    "c1fc06f277e24fc4a963e902b9a87c6a": {
     "model_module": "@jupyter-widgets/controls",
     "model_module_version": "1.5.0",
     "model_name": "DescriptionStyleModel",
     "state": {
      "_model_module": "@jupyter-widgets/controls",
      "_model_module_version": "1.5.0",
      "_model_name": "DescriptionStyleModel",
      "_view_count": null,
      "_view_module": "@jupyter-widgets/base",
      "_view_module_version": "1.2.0",
      "_view_name": "StyleView",
      "description_width": ""
     }
    }
   }
  }
 },
 "nbformat": 4,
 "nbformat_minor": 1
}
